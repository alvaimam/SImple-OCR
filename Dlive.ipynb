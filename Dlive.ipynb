{
 "cells": [
  {
   "cell_type": "code",
   "execution_count": 1,
   "id": "ad768610",
   "metadata": {},
   "outputs": [],
   "source": [
    "import PyPDF2"
   ]
  },
  {
   "cell_type": "code",
   "execution_count": 2,
   "id": "624ef9de",
   "metadata": {},
   "outputs": [],
   "source": [
    "pdffile = open('20230104_PSD_DEG-Straubing.pdf', 'rb')"
   ]
  },
  {
   "cell_type": "code",
   "execution_count": 3,
   "id": "d87d56af",
   "metadata": {},
   "outputs": [],
   "source": [
    "pdfreader = PyPDF2.PdfFileReader(pdffile)"
   ]
  },
  {
   "cell_type": "code",
   "execution_count": 4,
   "id": "d22e4f95",
   "metadata": {},
   "outputs": [],
   "source": [
    "pageObj = pdfreader.getPage(0)"
   ]
  },
  {
   "cell_type": "code",
   "execution_count": 5,
   "id": "273a7a99",
   "metadata": {},
   "outputs": [],
   "source": [
    "extracted_text = pageObj.extract_text()"
   ]
  },
  {
   "cell_type": "code",
   "execution_count": 6,
   "id": "05ca6c29",
   "metadata": {},
   "outputs": [],
   "source": [
    "import pandas as pd"
   ]
  },
  {
   "cell_type": "code",
   "execution_count": 7,
   "id": "e07c1dfe",
   "metadata": {},
   "outputs": [],
   "source": [
    "exceldata = pd.read_excel('412 - Umsatz 2023.xlsx')\n",
    "#exceldata_2 = exceldata"
   ]
  },
  {
   "cell_type": "code",
   "execution_count": null,
   "id": "d5cfacc0",
   "metadata": {},
   "outputs": [],
   "source": [
    "exceldata = exceldata.fillna('')"
   ]
  },
  {
   "cell_type": "code",
   "execution_count": null,
   "id": "3b1c47e4",
   "metadata": {},
   "outputs": [],
   "source": [
    "exceldata[0:20]"
   ]
  },
  {
   "cell_type": "code",
   "execution_count": null,
   "id": "463b311b",
   "metadata": {},
   "outputs": [],
   "source": [
    "#exceldata"
   ]
  },
  {
   "cell_type": "code",
   "execution_count": 8,
   "id": "ade8b756",
   "metadata": {},
   "outputs": [],
   "source": [
    "import re"
   ]
  },
  {
   "cell_type": "code",
   "execution_count": null,
   "id": "120e7014",
   "metadata": {},
   "outputs": [],
   "source": [
    "#r'(\\d{1,3}(?:\\.\\d{3})*(?:,\\d+))\\s€'"
   ]
  },
  {
   "cell_type": "code",
   "execution_count": 9,
   "id": "378d2609",
   "metadata": {},
   "outputs": [],
   "source": [
    "extracted_text = re.sub(r'\\s{2,}', ' ', extracted_text)"
   ]
  },
  {
   "cell_type": "code",
   "execution_count": 29,
   "id": "b003177b",
   "metadata": {},
   "outputs": [
    {
     "name": "stdout",
     "output_type": "stream",
     "text": [
      "20.364,29\n",
      "9.449,93\n",
      "2.910\n",
      "29.814,22\n",
      "DEG - Straubing Tigers\n",
      "51676\n",
      "7,00\n",
      "3,25\n",
      "10,25\n"
     ]
    }
   ],
   "source": [
    "import re\n",
    "\n",
    "# Assume you have the extracted text stored in a variable called 'extracted_text'\n",
    "\n",
    "# Find the second occurrence of 'Umsatz Gesamt Kassenbericht (AP)'\n",
    "pattern1 = r'Umsatz Gesamt Kassenbericht \\(AP\\).*?€.*?€.*?(\\d{1,3}(?:\\.\\d{3})*(?:,\\d+))\\s€'\n",
    "match1 = re.findall(pattern1, extracted_text, re.DOTALL)\n",
    "\n",
    "if len(match1) >= 1:\n",
    "    amount1 = match1[0]\n",
    "else:\n",
    "    amount1 = None\n",
    "\n",
    "# Find the second occurrence of 'Gesamtumsatz Food'\n",
    "pattern2 = r'Gesamtumsatz Food.*?€.*?(\\d{1,3}(?:\\.\\d{3})*(?:,\\d+))\\s€'\n",
    "match2 = re.findall(pattern2, extracted_text, re.DOTALL)\n",
    "\n",
    "if len(match2) >= 0:\n",
    "    amount2 = match2[0]\n",
    "else:\n",
    "    amount2 = None\n",
    "\n",
    "# Find the first occurrence of 'Besucher Public'\n",
    "pattern3 = r'Besucher Public.*?(\\d{1,3}(?:\\.\\d{3})*)\\s'\n",
    "match3 = re.findall(pattern3, extracted_text, re.DOTALL)\n",
    "\n",
    "if len(match3) >= 1:\n",
    "    amount3 = match3[0]\n",
    "else:\n",
    "    amount3 = None\n",
    "    \n",
    "pattern4 = r'Gesamtergebnis.*?€.*?(\\d{1,3}(?:\\.\\d{3})*(?:,\\d+))\\s€'\n",
    "match4 = re.findall(pattern4, extracted_text, re.DOTALL)\n",
    "\n",
    "if len(match4) >= 1:\n",
    "    amount4 = match4[0]\n",
    "else:\n",
    "    amount4 = None\n",
    "    \n",
    "pattern6 = r'Kopf Umsatz Beverage.*?(\\d{1,3}(?:,\\d+))\\s€.*?(\\d{1,3}(?:,\\d+))\\s€.*?(\\d{1,3}(?:,\\d+))\\s€'\n",
    "match6 = re.findall(pattern6,extracted_text,re.DOTALL)\n",
    "\n",
    "for i in range(len(match6)):\n",
    "    amounts = match6[i]\n",
    "    amount5 = amounts[0]\n",
    "    amount6 = amounts[1]\n",
    "    amount9 = amounts[2]\n",
    "\n",
    "\n",
    "pattern7 = r'Projektnummer:\\s*(.*)'\n",
    "match7 = re.findall(pattern7,extracted_text)\n",
    "\n",
    "pattern8 = r'Datum:.*?\\n(\\d+)'\n",
    "match8 = re.findall(pattern8,extracted_text)\n",
    "\n",
    "# Print the captured amounts\n",
    "print(amount1)  # 20.364,29 €\n",
    "print(amount2)  # 9.449,93 €\n",
    "print(amount3)  # 2.910\n",
    "print(amount4)\n",
    "print(match7[0])\n",
    "print(match8[0])\n",
    "print(amount5)\n",
    "print(amount6)\n",
    "print(amount9)"
   ]
  },
  {
   "cell_type": "code",
   "execution_count": 30,
   "id": "13bae151",
   "metadata": {},
   "outputs": [],
   "source": [
    "data = [match7[0],amount3,amount1,amount2,amount4,amount5,amount6,amount9,match8[0]]"
   ]
  },
  {
   "cell_type": "code",
   "execution_count": 31,
   "id": "a6f50828",
   "metadata": {},
   "outputs": [
    {
     "data": {
      "text/plain": [
       "['DEG - Straubing Tigers',\n",
       " '2.910',\n",
       " '20.364,29',\n",
       " '9.449,93',\n",
       " '29.814,22',\n",
       " '7,00',\n",
       " '3,25',\n",
       " '10,25',\n",
       " '51676']"
      ]
     },
     "execution_count": 31,
     "metadata": {},
     "output_type": "execute_result"
    }
   ],
   "source": [
    "data"
   ]
  },
  {
   "cell_type": "code",
   "execution_count": 34,
   "id": "a306ea69",
   "metadata": {},
   "outputs": [],
   "source": [
    "df = pd.DataFrame(data, columns=['Data'])\n",
    "df.iloc[4:7] = pd.DataFrame(df.iloc[4:7].values.tolist(), index=df.iloc[4:7].index)\n",
    "df = df.T\n",
    "df.to_excel('output.xlsx', index=False, startrow=2, startcol=2)"
   ]
  },
  {
   "cell_type": "code",
   "execution_count": 11,
   "id": "6e5d97da",
   "metadata": {},
   "outputs": [
    {
     "data": {
      "text/plain": [
       "'Datum: 04.01.2023\\n51676\\nBrutto Netto\\nUmsatz Tresen Kassenbericht (AP) 23.642,50 € 19.867,65 € 100% 19.867,65 €\\nUmsatz Pfand Kassenbericht (AP) 591,00 € 496,64 € 100% 496,64 €\\nUmsatz Gesamt Kassenbericht (AP) 24.233,50 € 20.364,29 € 20.364,29 €\\nUmsatz Bierrunner 0,00 € 0,00 € 73% 0,00 €\\nPfandumsatz Bierrunner 0,00 € 0,00 € 100% 0,00 €\\nGesamtumsatz Beverage 24.233,50 € 20.364,29 € 20.364,29 €\\nGesamtumsatz Food 10.111,43 € 9.449,93 € variabel 2.380,98 €\\nGesamtergebnis 34.344,93 € 29.814,22 € 22.745,27 €\\nAnzahl Besucher Public 2.910 pro Kopf Umsatz Beverage (100%) 7,00 € pro Kopf Umsatz Food (100%) 3,25 € pro Kopf Umsatz Food & Beverage 10,25 € Anzahl Besucher VIP 364\\nLogen 35\\nBusiness Club 262\\nDEG-Treff 67\\nVeranstaltungszeiten Mittwoch\\nEinlass Dauerkartenbesitzer: 17:45\\nEinlass Public: 18:00\\nBully: 19:00\\n1. Pause: 20:01\\n2. Drittel: 20:19\\n2. Pause: 20:51\\n3. Drittel: 21:09\\nSpielende 21:40\\nEnde VIP\\nLogen 22:30\\nBusiness Club & DEG Treff 23:05\\nWetter am Veranstaltungstag:\\nErläuterungen:\\nDer Umsatz Tresen Kassenbericht (AP) zeigt den kumulierten Tresenumsatz gemäß der Z-Berichte der genutzten Registrierkassen.\\nDer Umsatz Pfand Kassenbericht (AP) zeigt den kumulierten Pfandumsatz gemäß der Z-Berichte der genutzten Registrierkassen.\\nDer Umsatz Bierrunner zeigt den Veranstaltungsumsatz der Bierrunner auf Grundlage der Zählung vor Ort durch die FKP Eventservice an.\\nDer Pfanderlös Bierrunner zeigt den Pfanderlös der Bierrunner auf Grundlage der Zählung vor Ort durch die FKP Eventservice an.\\nDer Gesamtu msatz Food zeigt den kumulierten Umsatz der Food-Händler auf Grundlage der Umsatzmeldungen aus dem Food-Portal.\\nDer pro Kopf Umsatz Beverage (100%) ermittelt sich aus dem Gesamtumsatz Beverage netto.\\nDer pro Kopf Umsatz Food (100%) ermittelt sich aus dem Gesamtumsatz Food (netto).Projektnummer:DEG - Straubing Tigers\\nbesondere Vorkommnisse:Regen, stürmisch, 6 Grad\\nkeineGesamtergebnis\\nStatistik\\n'"
      ]
     },
     "execution_count": 11,
     "metadata": {},
     "output_type": "execute_result"
    }
   ],
   "source": [
    "extracted_text"
   ]
  },
  {
   "cell_type": "code",
   "execution_count": null,
   "id": "f9915019",
   "metadata": {},
   "outputs": [],
   "source": [
    "import re\n",
    "\n",
    "# Assume you have the extracted text stored in a variable called 'extracted_text'\n",
    "\n",
    "# Find the first occurrence of 'Umsatz Gesamt Kassenbericht'\n",
    "pattern = r'Umsatz Gesamt Kassenbericht \\(AP\\).*?€.*?€.*?(\\d{1,3}(?:\\.\\d{3})*(?:,\\d+))\\s€'\n",
    "matches = re.findall(pattern, extracted_text,re.DOTALL)\n",
    "\n",
    "if len(matches) >= 1:\n",
    "    number1 = matches[0]\n",
    "    #number2 = matches[1]\n",
    "    #number3 = matches[2]\n",
    "else:\n",
    "    number1 = None\n",
    "    number2 = None\n",
    "    number3 = None\n",
    "\n",
    "# Print the captured numbers\n",
    "print(number1)  # 24.233,50\n",
    "print(number2)  # 20.364,29\n",
    "print(number3)  # 20.364,29\n"
   ]
  },
  {
   "cell_type": "code",
   "execution_count": null,
   "id": "e1b750e3",
   "metadata": {},
   "outputs": [],
   "source": [
    "import re\n",
    "\n",
    "# Assume you have the extracted text stored in a variable called 'extracted_text'\n",
    "\n",
    "# Find all occurrences of numbers after 'Umsatz Gesamt Kassenbericht'\n",
    "pattern = r'Umsatz Gesamt Kassenbericht.*?(\\d{1,3}(?:\\.\\d{3})*(?:,\\d+))\\s€'\n",
    "matches = re.findall(pattern, extracted_text, re.DOTALL)\n",
    "\n",
    "# Print the captured numbers\n",
    "for match in matches:\n",
    "    print(match)\n"
   ]
  },
  {
   "cell_type": "code",
   "execution_count": null,
   "id": "d04212d1",
   "metadata": {},
   "outputs": [],
   "source": [
    "pattern2 = pattern2 = r'Gesamtumsatz Food.*?€.*?(\\d{1,3}(?:\\.\\d{3})*(?:,\\d+))\\s€'\n",
    "match2 = re.findall(pattern2, extracted_text, re.DOTALL)"
   ]
  },
  {
   "cell_type": "code",
   "execution_count": null,
   "id": "66b387fb",
   "metadata": {},
   "outputs": [],
   "source": [
    "match2"
   ]
  },
  {
   "cell_type": "code",
   "execution_count": null,
   "id": "2788c393",
   "metadata": {},
   "outputs": [],
   "source": [
    "pattern1 = r'Gesamtergebnis.*?€.*?(\\d{1,3}(?:\\.\\d{3})*(?:,\\d+))\\s€'\n"
   ]
  },
  {
   "cell_type": "code",
   "execution_count": null,
   "id": "5b1740e5",
   "metadata": {},
   "outputs": [],
   "source": [
    "pattern5 = r'Kopf Umsatz Beverage.*?(\\d{1,3}(?:,\\d+))\\s€'"
   ]
  },
  {
   "cell_type": "code",
   "execution_count": null,
   "id": "94bd06f1",
   "metadata": {},
   "outputs": [],
   "source": [
    "match5 = re.findall(pattern5,extracted_text,re.DOTALL)"
   ]
  },
  {
   "cell_type": "code",
   "execution_count": null,
   "id": "6e394454",
   "metadata": {},
   "outputs": [],
   "source": [
    "match5"
   ]
  },
  {
   "cell_type": "code",
   "execution_count": null,
   "id": "5ffe9ea0",
   "metadata": {},
   "outputs": [],
   "source": [
    "pattern6 = r'Kopf Umsatz Beverage.*?(\\d{1,3}(?:,\\d+))\\s€.*?(\\d{1,3}(?:,\\d+))\\s€.*?(\\d{1,3}(?:,\\d+))\\s€'\n",
    "match6 = re.findall(pattern6,extracted_text,re.DOTALL)"
   ]
  },
  {
   "cell_type": "code",
   "execution_count": null,
   "id": "4707b489",
   "metadata": {},
   "outputs": [],
   "source": [
    "match6"
   ]
  },
  {
   "cell_type": "code",
   "execution_count": null,
   "id": "a29e53e0",
   "metadata": {},
   "outputs": [],
   "source": [
    "pattern7 = r'Projektnummer:\\s*(.*)'\n",
    "match7 = re.findall(pattern7,extracted_text)"
   ]
  },
  {
   "cell_type": "code",
   "execution_count": null,
   "id": "03e2a947",
   "metadata": {},
   "outputs": [],
   "source": [
    "pattern8 = r'Datum:.*?\\n(\\d+)'\n",
    "match8 = re.findall(pattern8,extracted_text)"
   ]
  },
  {
   "cell_type": "code",
   "execution_count": null,
   "id": "5c72bda4",
   "metadata": {},
   "outputs": [],
   "source": [
    "match8[0]"
   ]
  },
  {
   "cell_type": "code",
   "execution_count": null,
   "id": "53eb185e",
   "metadata": {},
   "outputs": [],
   "source": []
  }
 ],
 "metadata": {
  "kernelspec": {
   "display_name": "Python 3",
   "language": "python",
   "name": "python3"
  },
  "language_info": {
   "codemirror_mode": {
    "name": "ipython",
    "version": 3
   },
   "file_extension": ".py",
   "mimetype": "text/x-python",
   "name": "python",
   "nbconvert_exporter": "python",
   "pygments_lexer": "ipython3",
   "version": "3.9.4"
  }
 },
 "nbformat": 4,
 "nbformat_minor": 5
}
